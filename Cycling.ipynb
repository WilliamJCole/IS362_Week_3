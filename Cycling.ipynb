{
 "cells": [
  {
   "cell_type": "markdown",
   "metadata": {},
   "source": [
    "## Week 3 Homework: Bicycle Odometer\n",
    "\n",
    "#### Assignment:\n",
    "\n",
    "Suppose you have ridden a bicycle from New York City to Key West, Florida.  Your bicycle odometer shows the total miles, which you have dutifully logged at the end of each day with paper and pencil.  Your first two entries might be 55 and 120, indicating that you rode your bike 55 miles on day 1 and 65 miles on day 2.  Your task is to create a pandas Series object that holds the cumulative miles at the end of each day, then use your Python skills to show the total miles that you rode each day.  \n",
    "\n",
    "Total miles(From google maps): 1520\n",
    "\n",
    "Here is my code example:"
   ]
  },
  {
   "cell_type": "code",
   "execution_count": 8,
   "metadata": {
    "collapsed": false
   },
   "outputs": [],
   "source": [
    "import pandas as pd\n",
    "import numpy as np\n",
    "from matplotlib import pyplot"
   ]
  },
  {
   "cell_type": "code",
   "execution_count": null,
   "metadata": {
    "collapsed": true
   },
   "outputs": [],
   "source": [
    "#Below is the daily readings:"
   ]
  },
  {
   "cell_type": "code",
   "execution_count": 10,
   "metadata": {
    "collapsed": false
   },
   "outputs": [],
   "source": [
    "odometer = {}\n",
    "odometer[1]= 55\n",
    "odometer[2]= 120\n",
    "odometer[3]= 201\n",
    "odometer[4]= 272\n",
    "odometer[5]= 324\n",
    "odometer[6]= 399\n",
    "odometer[7]= 419\n",
    "odometer[8]= 457\n",
    "odometer[9]= 501\n",
    "odometer[10]= 552\n",
    "odometer[11]= 610\n",
    "odometer[12]= 676 \n",
    "odometer[14]= 729\n",
    "odometer[15]= 782\n",
    "odometer[16]= 836\n",
    "odometer[17]= 889\n",
    "odometer[18]= 942\n",
    "odometer[19]= 996\n",
    "odometer[20]= 1049\n",
    "odometer[21]= 1102\n",
    "odometer[22]= 1156\n",
    "odometer[23]= 1209\n",
    "odometer[24]= 1244\n",
    "odometer[25]= 1275\n",
    "odometer[26]= 1316\n",
    "odometer[27]= 1369\n",
    "odometer[28]= 1422\n",
    "odometer[29]= 1452\n",
    "odometer[30]= 1520"
   ]
  },
  {
   "cell_type": "code",
   "execution_count": 24,
   "metadata": {
    "collapsed": false
   },
   "outputs": [
    {
     "data": {
      "text/plain": [
       "1       55\n",
       "2      120\n",
       "3      201\n",
       "4      272\n",
       "5      324\n",
       "6      399\n",
       "7      419\n",
       "8      457\n",
       "9      501\n",
       "10     552\n",
       "11     610\n",
       "12     676\n",
       "14     729\n",
       "15     782\n",
       "16     836\n",
       "17     889\n",
       "18     942\n",
       "19     996\n",
       "20    1049\n",
       "21    1102\n",
       "22    1156\n",
       "23    1209\n",
       "24    1244\n",
       "25    1275\n",
       "26    1316\n",
       "27    1369\n",
       "28    1422\n",
       "29    1452\n",
       "30    1520\n",
       "dtype: int64"
      ]
     },
     "execution_count": 24,
     "metadata": {},
     "output_type": "execute_result"
    }
   ],
   "source": [
    "#Below converts the daily record to panda series\n",
    "odometerseries = pd.Series(odometer)\n",
    "odometerseries"
   ]
  },
  {
   "cell_type": "code",
   "execution_count": 29,
   "metadata": {
    "collapsed": false
   },
   "outputs": [
    {
     "data": {
      "image/png": "[encoded data removed]",
      "text/plain": [
       "<matplotlib.figure.Figure at 0x109dd9cf8>"
      ]
     },
     "metadata": {},
     "output_type": "display_data"
    }
   ],
   "source": [
    "start = pd.Series(odometerseries.iloc[0])\n",
    "start.index += 1\n",
    "\n",
    "nextday = pd.Series(np.diff(odometerseries))\n",
    "nextday.index += 2\n",
    "\n",
    "totaldays = [start, nextday]\n",
    "daily_travel = pd.concat(totaldays)\n",
    "\n",
    "pyplot.plot(daily_travel, linestyle='--', marker='o')\n",
    "pyplot.ylabel('Distance in Miles')\n",
    "pyplot.xlabel('Time in Days')\n",
    "pyplot.suptitle('Cycling Trip')\n",
    "pyplot.grid()\n",
    "pyplot.show()"
   ]
  }
 ],
 "metadata": {
  "kernelspec": {
   "display_name": "Python 3",
   "language": "python",
   "name": "python3"
  },
  "language_info": {
   "codemirror_mode": {
    "name": "ipython",
    "version": 3
   },
   "file_extension": ".py",
   "mimetype": "text/x-python",
   "name": "python",
   "nbconvert_exporter": "python",
   "pygments_lexer": "ipython3",
   "version": "3.5.1"
  }
 },
 "nbformat": 4,
 "nbformat_minor": 2
}
